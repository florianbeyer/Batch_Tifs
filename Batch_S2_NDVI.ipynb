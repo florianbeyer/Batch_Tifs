{
 "cells": [
  {
   "cell_type": "code",
   "execution_count": 1,
   "metadata": {},
   "outputs": [],
   "source": [
    "from os import listdir\n",
    "from os.path import join\n",
    "from osgeo import gdal\n",
    "import numpy as np\n",
    "import matplotlib.pyplot as plt\n",
    "import matplotlib.image as mpimg\n",
    "\n",
    "\n",
    "import fiona\n",
    "import rasterio\n",
    "import rasterio.mask\n",
    "import os"
   ]
  },
  {
   "cell_type": "code",
   "execution_count": 27,
   "metadata": {},
   "outputs": [],
   "source": [
    "infolder = 'N:\\\\Projekt_PROSPER_RO\\\\Data_RS\\\\Sentinel2\\\\009_mosaicing_done\\\\'\n",
    "\n",
    "outfolder = 'N:\\\\Projekt_PROSPER_RO\\\\Data_RS\\\\Sentinel2\\\\009b_NDVIs_auf_erweitereten_Auschnitt\\\\'\n",
    "\n",
    "inshape = 'N:\\\\Projekt_PROSPER_RO\\\\ALKIS_Erweitert\\\\RNK2019\\\\tn_gewaesser_teich.shp'\n",
    "\n",
    "band_red = 4\n",
    "band_nir = 8"
   ]
  },
  {
   "cell_type": "code",
   "execution_count": 28,
   "metadata": {},
   "outputs": [
    {
     "name": "stdout",
     "output_type": "stream",
     "text": [
      "number of images: 19 \n",
      " first image name: 20180420_S2B_MSIL2A_mosaic.tif\n"
     ]
    }
   ],
   "source": [
    "files = []\n",
    "for file in os.listdir(infolder):\n",
    "    if file.endswith(\".tif\"):\n",
    "        files.append(file)\n",
    "\n",
    "print('number of images: {} \\n first image name: {}'.format(len(files), files[0]))"
   ]
  },
  {
   "cell_type": "code",
   "execution_count": 29,
   "metadata": {},
   "outputs": [],
   "source": [
    "def ndvi_index(infolder,outfolder,image, band1, band2):\n",
    "    dataset = rasterio.open(infolder+image)\n",
    "    \n",
    "    b1 = dataset.read(band1)\n",
    "    b2 = dataset.read(band2)\n",
    "    a = b2-b1\n",
    "    b = b2+b1\n",
    "       \n",
    "    ndvi = np.divide(a, b, out=np.zeros_like(a), where=b!=0)\n",
    "    \n",
    "    with rasterio.open(outfolder+image[:-4]+'_ndvi.tif',\n",
    "                   'w',\n",
    "                   driver='GTiff',\n",
    "                   height=ndvi.shape[0],\n",
    "                   width=ndvi.shape[1],\n",
    "                   count=1,\n",
    "                   dtype=ndvi.dtype,\n",
    "                   crs=dataset.crs,\n",
    "                   transform=dataset.transform\n",
    "                  ) as dst:\n",
    "        dst.write(ndvi,1)"
   ]
  },
  {
   "cell_type": "code",
   "execution_count": 30,
   "metadata": {},
   "outputs": [],
   "source": [
    "for image in files:\n",
    "    ndvi_index(infolder,outfolder,image,band_red,band_nir)"
   ]
  },
  {
   "cell_type": "code",
   "execution_count": 31,
   "metadata": {},
   "outputs": [
    {
     "name": "stdout",
     "output_type": "stream",
     "text": [
      "number of images: 19 \n",
      " first image name: 20180420_S2B_MSIL2A_mosaic_ndvi.tif\n"
     ]
    }
   ],
   "source": [
    "files = []\n",
    "for file in os.listdir(outfolder):\n",
    "    if file.endswith(\".tif\"):\n",
    "        files.append(file)\n",
    "\n",
    "print('number of images: {} \\n first image name: {}'.format(len(files), files[0]))"
   ]
  },
  {
   "cell_type": "code",
   "execution_count": 32,
   "metadata": {},
   "outputs": [],
   "source": [
    "def crop_image(shape, image, output):\n",
    "    \n",
    "    with fiona.open(shape, \"r\") as shapefile:\n",
    "        shapes = [feature[\"geometry\"] for feature in shapefile]\n",
    "    \n",
    "    with rasterio.open(image) as src:\n",
    "        out_image, out_transform = rasterio.mask.mask(src, shapes, crop=True)\n",
    "        out_meta = src.meta\n",
    "    \n",
    "    out_meta.update({\"driver\": \"GTiff\",\n",
    "                 \"height\": out_image.shape[1],\n",
    "                 \"width\": out_image.shape[2],\n",
    "                 \"transform\": out_transform})\n",
    "    \n",
    "    with rasterio.open(output, \"w\", **out_meta) as dest:\n",
    "        dest.write(out_image)"
   ]
  },
  {
   "cell_type": "code",
   "execution_count": 33,
   "metadata": {},
   "outputs": [],
   "source": [
    "for i in files:\n",
    "    crop_image(inshape, outfolder+i, outfolder+i[:-4]+'_subset.tif')"
   ]
  }
 ],
 "metadata": {
  "kernelspec": {
   "display_name": "Python [conda env:py3]",
   "language": "python",
   "name": "conda-env-py3-py"
  },
  "language_info": {
   "codemirror_mode": {
    "name": "ipython",
    "version": 3
   },
   "file_extension": ".py",
   "mimetype": "text/x-python",
   "name": "python",
   "nbconvert_exporter": "python",
   "pygments_lexer": "ipython3",
   "version": "3.7.5"
  }
 },
 "nbformat": 4,
 "nbformat_minor": 2
}
