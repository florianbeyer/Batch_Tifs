{
 "cells": [
  {
   "cell_type": "code",
   "execution_count": 4,
   "metadata": {},
   "outputs": [],
   "source": [
    "from os import listdir\n",
    "from os.path import join\n",
    "from osgeo import gdal\n",
    "import numpy as np\n",
    "import matplotlib.pyplot as plt\n",
    "import matplotlib.image as mpimg\n",
    "\n",
    "from subprocess import call\n",
    "\n",
    "\n",
    "import fiona\n",
    "import rasterio\n",
    "import rasterio.mask\n",
    "import os"
   ]
  },
  {
   "cell_type": "code",
   "execution_count": 7,
   "metadata": {},
   "outputs": [],
   "source": [
    "infolder = 'R:\\\\OwnCloud\\\\wetscapes_dlr\\\\Biota\\\\BDOM\\\\CRS5650_test\\\\'\n",
    "\n",
    "outfolder = 'R:\\\\OwnCloud\\\\wetscapes_dlr\\\\Biota\\\\BDOM\\\\test.shp'\n",
    "\n",
    "\n"
   ]
  },
  {
   "cell_type": "code",
   "execution_count": 8,
   "metadata": {},
   "outputs": [
    {
     "name": "stdout",
     "output_type": "stream",
     "text": [
      "number of images: 4 \n",
      " first image name: DSM_Cloud_332800_59890.tif\n"
     ]
    }
   ],
   "source": [
    "files = []\n",
    "for file in os.listdir(infolder):\n",
    "    if file.endswith(\".tif\"):\n",
    "        files.append(file)\n",
    "\n",
    "print('number of images: {} \\n first image name: {}'.format(len(files), files[0]))"
   ]
  },
  {
   "cell_type": "code",
   "execution_count": 28,
   "metadata": {},
   "outputs": [],
   "source": [
    "args = ['gdaltindex', outfolder, infolder+'*.tif', '--config GDAL_DATA C:/Users/Beyer/AppData/Local/Continuum/anaconda3/pkgs/libgdal-3.0.4-h6f60a84_8/Library/bin']"
   ]
  },
  {
   "cell_type": "code",
   "execution_count": 29,
   "metadata": {},
   "outputs": [
    {
     "data": {
      "text/plain": [
       "0"
      ]
     },
     "execution_count": 29,
     "metadata": {},
     "output_type": "execute_result"
    }
   ],
   "source": [
    "call(args)"
   ]
  },
  {
   "cell_type": "code",
   "execution_count": 30,
   "metadata": {},
   "outputs": [
    {
     "data": {
      "text/plain": [
       "3221225781"
      ]
     },
     "execution_count": 30,
     "metadata": {},
     "output_type": "execute_result"
    }
   ],
   "source": [
    "call(['C:/Users/Beyer/AppData/Local/Continuum/anaconda3/pkgs/libgdal-3.0.4-h6f60a84_8/Library/bin/gdaltindex.exe', outfolder, infolder+'*.tif'])"
   ]
  }
 ],
 "metadata": {
  "kernelspec": {
   "display_name": "Python 3",
   "language": "python",
   "name": "python3"
  },
  "language_info": {
   "codemirror_mode": {
    "name": "ipython",
    "version": 3
   },
   "file_extension": ".py",
   "mimetype": "text/x-python",
   "name": "python",
   "nbconvert_exporter": "python",
   "pygments_lexer": "ipython3",
   "version": "3.7.5"
  }
 },
 "nbformat": 4,
 "nbformat_minor": 4
}
